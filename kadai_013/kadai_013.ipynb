{
  "nbformat": 4,
  "nbformat_minor": 0,
  "metadata": {
    "colab": {
      "provenance": []
    },
    "kernelspec": {
      "name": "python3",
      "display_name": "Python 3"
    },
    "language_info": {
      "name": "python"
    }
  },
  "cells": [
    {
      "cell_type": "code",
      "execution_count": 4,
      "metadata": {
        "colab": {
          "base_uri": "https://localhost:8080/"
        },
        "id": "eWsLHsSKFLXU",
        "outputId": "233a1ced-a83c-4221-f94e-99447cb677a4"
      },
      "outputs": [
        {
          "output_type": "stream",
          "name": "stdout",
          "text": [
            "759.0円\n"
          ]
        }
      ],
      "source": [
        "def price_tax(price: int, tax_rate: int):\n",
        "    tax = price * (tax_rate / 100)\n",
        "    total = price + tax\n",
        "    print(f\"{total}円\")\n",
        "\n",
        "price_tax(690, 10)"
      ]
    }
  ]
}