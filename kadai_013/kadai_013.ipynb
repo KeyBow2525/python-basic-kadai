{
  "nbformat": 4,
  "nbformat_minor": 0,
  "metadata": {
    "colab": {
      "provenance": []
    },
    "kernelspec": {
      "name": "python3",
      "display_name": "Python 3"
    },
    "language_info": {
      "name": "python"
    }
  },
  "cells": [
    {
      "cell_type": "code",
      "execution_count": 1,
      "metadata": {
        "colab": {
          "base_uri": "https://localhost:8080/"
        },
        "id": "eWsLHsSKFLXU",
        "outputId": "9fe1f202-90e3-46de-e2a4-407fb33dac09"
      },
      "outputs": [
        {
          "output_type": "stream",
          "name": "stdout",
          "text": [
            "759.0\n"
          ]
        }
      ],
      "source": [
        "def price_tax(price: int, tax_rate: int):\n",
        "    tax = price * (tax_rate / 100)\n",
        "    total = price + tax\n",
        "    return total\n",
        "\n",
        "print(price_tax(690, 10))"
      ]
    }
  ]
}