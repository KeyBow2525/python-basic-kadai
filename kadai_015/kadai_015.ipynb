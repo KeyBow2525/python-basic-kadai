{
  "nbformat": 4,
  "nbformat_minor": 0,
  "metadata": {
    "colab": {
      "provenance": []
    },
    "kernelspec": {
      "name": "python3",
      "display_name": "Python 3"
    },
    "language_info": {
      "name": "python"
    }
  },
  "cells": [
    {
      "cell_type": "code",
      "execution_count": 3,
      "metadata": {
        "colab": {
          "base_uri": "https://localhost:8080/"
        },
        "id": "Cr70I7Tc5usu",
        "outputId": "f8dd9c42-0e67-433f-9d95-d63ba362e779"
      },
      "outputs": [
        {
          "output_type": "stream",
          "name": "stdout",
          "text": [
            "名前：侍太郎 年齢：36\n"
          ]
        }
      ],
      "source": [
        "# Humanクラスを定義\n",
        "class Human:\n",
        "    # コンストラクタを定義。\n",
        "    def __init__(self, name, age):\n",
        "\n",
        "        # 属性を定義。\n",
        "        self.name = name\n",
        "        self.age = age\n",
        "\n",
        "    # printinfoメソッドを定義。\n",
        "    def printinfo(self):\n",
        "        print(f\"名前：{self.name} 年齢：{self.age}\")\n",
        "\n",
        "# インスタンス化\n",
        "human = Human(\"侍太郎\", 36)\n",
        "\n",
        "# メソッドにアクセスして実行\n",
        "human.printinfo()\n"
      ]
    }
  ]
}