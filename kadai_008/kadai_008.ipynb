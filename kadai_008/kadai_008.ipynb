{
  "nbformat": 4,
  "nbformat_minor": 0,
  "metadata": {
    "colab": {
      "provenance": []
    },
    "kernelspec": {
      "name": "python3",
      "display_name": "Python 3"
    },
    "language_info": {
      "name": "python"
    }
  },
  "cells": [
    {
      "cell_type": "code",
      "execution_count": 17,
      "metadata": {
        "colab": {
          "base_uri": "https://localhost:8080/"
        },
        "id": "X6gwESaXEHcI",
        "outputId": "fdd1c96b-e9bb-4a27-e211-7e20089b512e"
      },
      "outputs": [
        {
          "output_type": "stream",
          "name": "stdout",
          "text": [
            "209\n"
          ]
        }
      ],
      "source": [
        "'''\n",
        "課題内容について\n",
        "・変数varが、3の倍数の場合は「Fizz」を出力\n",
        "・変数varが、5の倍数の場合は「Buzz」を出力\n",
        "・変数varが、3の倍数と5の倍数の両方に該当する場合は「FizzBuzz」を出力\n",
        "・上記のどの場合にも該当しない場合は、変数varの値を出力\n",
        "では，varに30が代入された場合に，「Fizz」と「FizzBuzz」の両方を出力するのか，それとも「FizzBuzz」のみ出力するのか判断しきれませんでした。\n",
        "今回は両方出力するものとしてコードを書きました。そこまで明記されていると助かります。\n",
        "'''\n",
        "\n",
        "import random\n",
        "var = random.randint(1, 500)\n",
        "\n",
        "if var %3 == 0:\n",
        "    print(\"Fizz\")\n",
        "    if var % 3 == 0 and var % 5 == 0:\n",
        "        print(\"FizzBuzz\")\n",
        "elif var % 5 == 0:\n",
        "    print(\"Buzz\")\n",
        "else:\n",
        "    print(var)\n"
      ]
    }
  ]
}