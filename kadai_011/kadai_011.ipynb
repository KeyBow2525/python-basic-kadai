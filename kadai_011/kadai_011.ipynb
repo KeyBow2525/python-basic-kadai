{
  "nbformat": 4,
  "nbformat_minor": 0,
  "metadata": {
    "colab": {
      "provenance": []
    },
    "kernelspec": {
      "name": "python3",
      "display_name": "Python 3"
    },
    "language_info": {
      "name": "python"
    }
  },
  "cells": [
    {
      "cell_type": "code",
      "execution_count": 2,
      "metadata": {
        "colab": {
          "base_uri": "https://localhost:8080/"
        },
        "id": "L2NtSuJjxuHy",
        "outputId": "eabb3bb5-525a-4095-f681-9eaad610f554"
      },
      "outputs": [
        {
          "output_type": "stream",
          "name": "stdout",
          "text": [
            "for文での記述\n",
            "水\n",
            "金\n",
            "地\n",
            "火\n",
            "木\n",
            "土\n",
            "天\n",
            "海\n",
            "冥\n",
            "while文での記述\n",
            "水\n",
            "金\n",
            "地\n",
            "火\n",
            "木\n",
            "土\n",
            "天\n",
            "海\n",
            "冥\n"
          ]
        }
      ],
      "source": [
        "array = [\"水\",\"金\",\"地\",\"火\",\"木\",\"土\",\"天\",\"海\",\"冥\"]\n",
        "\n",
        "# for文\n",
        "print(\"for文での記述\")\n",
        "\n",
        "for value in array:\n",
        "    print(value)\n",
        "\n",
        "# while文\n",
        "print(\"while文での記述\")\n",
        "\n",
        "index = 0\n",
        "\n",
        "while index < 9:\n",
        "    print(array[index])\n",
        "    index += 1\n"
      ]
    }
  ]
}