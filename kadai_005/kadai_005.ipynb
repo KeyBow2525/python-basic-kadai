{
  "nbformat": 4,
  "nbformat_minor": 0,
  "metadata": {
    "colab": {
      "provenance": []
    },
    "kernelspec": {
      "name": "python3",
      "display_name": "Python 3"
    },
    "language_info": {
      "name": "python"
    }
  },
  "cells": [
    {
      "cell_type": "code",
      "execution_count": 6,
      "metadata": {
        "colab": {
          "base_uri": "https://localhost:8080/"
        },
        "id": "Nea5R2nh5_uT",
        "outputId": "c844c692-d7e7-4ab6-8e3d-bc70b937a2f2"
      },
      "outputs": [
        {
          "output_type": "stream",
          "name": "stdout",
          "text": [
            "75.0㎠\n",
            "75.0㎠\n"
          ]
        }
      ],
      "source": [
        "top = 10\n",
        "bottom = 20\n",
        "height = 5\n",
        "surface = (top + bottom) * height / 2\n",
        "\n",
        "print(str(surface) + \"㎠\")\n",
        "\n",
        "print(f\"{surface}㎠\")"
      ]
    },
    {
      "cell_type": "code",
      "source": [],
      "metadata": {
        "id": "Xop1XtQE6sBi"
      },
      "execution_count": null,
      "outputs": []
    }
  ]
}