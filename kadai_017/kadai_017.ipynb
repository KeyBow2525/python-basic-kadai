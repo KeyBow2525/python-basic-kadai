{
  "nbformat": 4,
  "nbformat_minor": 0,
  "metadata": {
    "colab": {
      "provenance": []
    },
    "kernelspec": {
      "name": "python3",
      "display_name": "Python 3"
    },
    "language_info": {
      "name": "python"
    }
  },
  "cells": [
    {
      "cell_type": "code",
      "execution_count": 38,
      "metadata": {
        "colab": {
          "base_uri": "https://localhost:8080/"
        },
        "id": "rlqp6kqkoD_3",
        "outputId": "d7f2b1a8-82e8-4aab-dd18-0c30f0a1a1f8"
      },
      "outputs": [
        {
          "output_type": "stream",
          "name": "stdout",
          "text": [
            "げそうにすさんは大人です。\n",
            "ゃむしがもさんは大人です。\n",
            "ずゃあぽもさんは大人です。\n",
            "えさまわぴさんは大人です。\n",
            "げょゅぺれさんは大人です。\n"
          ]
        }
      ],
      "source": [
        "import random\n",
        "\n",
        "# インスタンスの数を1～10個の中からランダムに決定\n",
        "num = random.randint(1, 10)\n",
        "\n",
        "# id（インスタンス名）用素材\n",
        "chars1 = list(\"abcdefghijklmnopqrstuvwxyz\")\n",
        "\n",
        "# name用素材\n",
        "chars2 = list(\"あいうえおかきくけこさしすせそたちつてとなにぬねの\" +\n",
        "             \"はひふへほまみむめもやゆよらりるれろわをん\" +\n",
        "             \"がぎぐげござじずぜぞだぢづでどばびぶべぼぱぴぷぺぽ\" +\n",
        "             \"っゃゅょ\")\n",
        "\n",
        "# id，name，ageそれぞれのリスト作成用の空リスト\n",
        "ids =[]\n",
        "names = []\n",
        "ages = []\n",
        "\n",
        "# リストの要素数カウント用の空リスト\n",
        "id_list = []\n",
        "\n",
        "# Humanクラスを定義\n",
        "class Human:\n",
        "    # 名前(name)と年齢(age)の属性を定義\n",
        "    def __init__(self, name, age):\n",
        "        self.name = name\n",
        "        self.age = age\n",
        "\n",
        "    # check_adultメソッドを定義\n",
        "    def check_adult(self):\n",
        "        if 20 <= self.age:\n",
        "            print(f\"{self.name}さんは大人です。\")\n",
        "        else:\n",
        "            print(f\"{self.name}さんは大人ではありません。\")\n",
        "\n",
        "# id，name，ageそれぞれ変数numの数だけ作成\n",
        "for i in range(0, num):\n",
        "    id = \"\".join(random.choices(chars1, k=5))\n",
        "    name = \"\".join(random.choices(chars2, k=5))\n",
        "    age = random.randint(15, 30)\n",
        "\n",
        "    # 作成したid，name，ageをそれぞれリストに追加\n",
        "    ids.append(id)\n",
        "    names.append(name)\n",
        "    ages.append(age)\n",
        "\n",
        "# id，name，ageそれぞれのリストから人数分の連想配列を作成\n",
        "for j in range(0, num):\n",
        "    ids[j] = {}\n",
        "    ids[j][\"name\"] = names[j]\n",
        "    ids[j][\"age\"] = ages[j]\n",
        "\n",
        "    # インスタンス化\n",
        "    ids[j] = Human(ids[j][\"name\"], ids[j][\"age\"])\n",
        "\n",
        "    # リストの要素数カウント用リストに追加\n",
        "    id_list.append(ids[j])\n",
        "\n",
        "# リストの要素数分だけcheck_adultメソッドを呼び出し\n",
        "for n in range(0, len(id_list)):\n",
        "    ids[n].check_adult()\n"
      ]
    }
  ]
}